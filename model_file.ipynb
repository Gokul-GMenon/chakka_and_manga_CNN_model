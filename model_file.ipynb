{
 "metadata": {
  "language_info": {
   "codemirror_mode": {
    "name": "ipython",
    "version": 3
   },
   "file_extension": ".py",
   "mimetype": "text/x-python",
   "name": "python",
   "nbconvert_exporter": "python",
   "pygments_lexer": "ipython3",
   "version": "3.9.1"
  },
  "orig_nbformat": 2,
  "kernelspec": {
   "name": "python391jvsc74a57bd0ac59ebe37160ed0dfa835113d9b8498d9f09ceb179beaac4002f036b9467c963",
   "display_name": "Python 3.9.1 64-bit"
  },
  "metadata": {
   "interpreter": {
    "hash": "ac59ebe37160ed0dfa835113d9b8498d9f09ceb179beaac4002f036b9467c963"
   }
  }
 },
 "nbformat": 4,
 "nbformat_minor": 2,
 "cells": [
  {
   "cell_type": "code",
   "execution_count": 31,
   "metadata": {},
   "outputs": [],
   "source": [
    "import numpy as np\n",
    "%tensorflow_version 2.x\n",
    "from numpy.core.fromnumeric import shape\n",
    "import tensorflow as tf\n",
    "from tensorflow.keras import datasets, layers, models\n",
    "from keras.preprocessing.image import ImageDataGenerator\n",
    "import random\n",
    "import sklearn as sk\n",
    "import cv2\n",
    "%tensorflow_version 2.x\n",
    "from keras.preprocessing import image\n",
    "import matplotlib.pyplot as plt\n",
    "import os\n"
   ]
  },
  {
   "cell_type": "code",
   "execution_count": 32,
   "metadata": {},
   "outputs": [],
   "source": [
    "\n",
    "IMG_SIZE = 200\n",
    "\n",
    "class_names = ['Jackfruit', 'Mango']\n",
    "\n",
    "def create_data(DATADIR, img_array = [],x=0):\n",
    "    img_array = []\n",
    "    CATEGORIES = ['0', '1']\n",
    "    for category in CATEGORIES :\n",
    "        path = os.path.join(DATADIR, category)\n",
    "        for img in os.listdir(path):\n",
    "            x+=1\n",
    "            # print(os.path.join(path,img))\n",
    "            img = cv2.imread(os.path.join(path, img))\n",
    "            img = cv2.resize(img, (IMG_SIZE, IMG_SIZE))   \n",
    "            # img = img/255         \n",
    "            img_array.append(img)\n",
    "     \n",
    "          \n",
    "    return img_array,x\n",
    "\n",
    "training_images,len1 = create_data(DATADIR = '/content/drive/MyDrive/TinkerHub BFH 2021/train')\n",
    "testing_images,len2 = create_data(DATADIR = '/content/drive/MyDrive/TinkerHub BFH 2021/test')\n"
   ]
  },
  {
   "cell_type": "code",
   "execution_count": 33,
   "metadata": {},
   "outputs": [],
   "source": [
    "# Importing labels\n",
    "\n",
    "def create_training_label(DATADIR, label = []):\n",
    "    k=0\n",
    "    CATEGORIES = ['0', '1']\n",
    "    label = []\n",
    "    for category in CATEGORIES :\n",
    "        path = os.path.join(DATADIR, category)\n",
    "        for img in os.listdir(path):\n",
    "            path = os.path.join(DATADIR, category)\n",
    "        \n",
    "            label.append(int(category))\n",
    "        \n",
    "         \n",
    "    return label\n",
    "\n",
    "train_labels = create_training_label(DATADIR = '/content/drive/MyDrive/TinkerHub BFH 2021/train')\n",
    "test_labels = create_training_label(DATADIR = '/content/drive/MyDrive/TinkerHub BFH 2021/test')\n"
   ]
  },
  {
   "cell_type": "code",
   "execution_count": 22,
   "metadata": {},
   "outputs": [
    {
     "output_type": "stream",
     "name": "stdout",
     "text": [
      "658\n",
      "1436\n"
     ]
    }
   ],
   "source": [
    "# Data Augmentation\n",
    "\n",
    "def augment(lenx, test, training_images = [], testing_images = [], train_labels = [], test_labels = []):\n",
    "    \n",
    "    print(lenx)\n",
    "    datagen = ImageDataGenerator(\n",
    "    rotation_range=40,\n",
    "    width_shift_range=0.2,\n",
    "    height_shift_range=0.2,\n",
    "    shear_range=0.2,\n",
    "    zoom_range=0.2,\n",
    "    horizontal_flip=True,\n",
    "    fill_mode='nearest')\n",
    "    \n",
    "    for k in range(0,lenx):\n",
    "    \n",
    "        if test == True:\n",
    "            img = testing_images[k]     \n",
    "        else:\n",
    "            img = training_images[k]\n",
    "            \n",
    "        img = img.reshape((1,) + img.shape)  # reshape image\n",
    "        i=0\n",
    "\n",
    "        for batch in datagen.flow(img, save_prefix='test', save_format='jpeg'): \n",
    "            \n",
    "            if test == True:\n",
    "                \n",
    "                \n",
    "                testing_images.append(batch)\n",
    "                test_labels.append(test_labels[k])\n",
    "\n",
    "            else:\n",
    "                \n",
    "                training_images.append(batch)\n",
    "                train_labels.append(train_labels[k])\n",
    "            \n",
    "            i += 1 \n",
    "            if i > 4:  \n",
    "                break\n",
    "\n",
    "    if test == True:\n",
    "        return testing_images, test_labels\n",
    "    else:\n",
    "        return training_images, train_labels\n",
    "\n",
    "    \n",
    "test_images, test_labels = augment(lenx = len2, testing_images = testing_images,  test = True, test_labels= test_labels)\n",
    "train_images, train_labels = augment(lenx = len1, training_images = training_images, test = False, train_labels= train_labels)"
   ]
  },
  {
   "cell_type": "code",
   "execution_count": 23,
   "metadata": {},
   "outputs": [],
   "source": [
    "len3 = len(train_images)\n",
    "len4 = len(test_images)\n",
    "\n",
    "train_images_arr = np.zeros((len3,200,200,3), 'uint8')\n",
    "test_images_arr = np.zeros((len4,200,200,3), 'uint8')\n",
    "train_labels_arr = np.zeros(len3, dtype = np.int32)\n",
    "test_labels_arr = np.zeros(len4, dtype = np.int32)\n",
    "\n",
    "for i in range(0,len3):\n",
    "    train_images_arr[i] = train_images[i]/255\n",
    "    train_labels_arr[i] = train_labels[i]\n",
    "for i in range(0,len4):\n",
    "    test_images_arr[i] = test_images[i]/255\n",
    "    test_labels_arr[i] = test_labels[i]\n",
    "\n",
    "# Shuffling input data\n",
    "train_images_arr, train_labels_arr = sk.utils.shuffle(train_images_arr, train_labels_arr)\n",
    "test_images_arr, test_labels_arr = sk.utils.shuffle(test_images_arr, test_labels_arr)  "
   ]
  },
  {
   "cell_type": "code",
   "execution_count": 24,
   "metadata": {},
   "outputs": [],
   "source": [
    "\"\"\"\n",
    "CNN Architecture\n",
    "\"\"\"\n",
    "\n",
    "model = models.Sequential()\n",
    "model.add(layers.MaxPooling2D((2, 2)))\n",
    "model.add(layers.Conv2D(64, (3, 3), activation='relu'))\n",
    "model.add(layers.MaxPooling2D((2, 2)))\n",
    "model.add(layers.Conv2D(64, (3, 3), activation='relu'))\n",
    "model.add(layers.MaxPooling2D((2, 2)))\n",
    "model.add(layers.Conv2D(64, (3, 3), activation='relu'))\n",
    "model.add(layers.MaxPooling2D((2, 2)))"
   ]
  },
  {
   "cell_type": "code",
   "execution_count": 25,
   "metadata": {},
   "outputs": [
    {
     "output_type": "stream",
     "name": "stdout",
     "text": [
      "Model: \"sequential_1\"\n_________________________________________________________________\nLayer (type)                 Output Shape              Param #   \n=================================================================\nconv2d_3 (Conv2D)            (None, 158, 158, 100)     2800      \n_________________________________________________________________\nmax_pooling2d_3 (MaxPooling2 (None, 79, 79, 100)       0         \n_________________________________________________________________\nconv2d_4 (Conv2D)            (None, 77, 77, 90)        81090     \n_________________________________________________________________\nmax_pooling2d_4 (MaxPooling2 (None, 38, 38, 90)        0         \n_________________________________________________________________\nconv2d_5 (Conv2D)            (None, 36, 36, 64)        51904     \n_________________________________________________________________\nmax_pooling2d_5 (MaxPooling2 (None, 18, 18, 64)        0         \n=================================================================\nTotal params: 135,794\nTrainable params: 135,794\nNon-trainable params: 0\n_________________________________________________________________\n"
     ]
    }
   ],
   "source": [
    "# Model summary\n",
    "\n",
    "model.summary()\n"
   ]
  },
  {
   "cell_type": "code",
   "execution_count": 26,
   "metadata": {},
   "outputs": [],
   "source": [
    "\n",
    "# Adding the layers\n",
    "model.add(layers.Flatten()) \n",
    "model.add(layers.Dense(64, activation='relu'))\n",
    "model.add(tf.keras.layers.Dropout(0.3))\n",
    "model.add(layers.Dense(50, activation='relu'))\n",
    "model.add(tf.keras.layers.Dropout(0.5))\n",
    "model.add(layers.Dense(50, activation='relu'))\n",
    "model.add(tf.keras.layers.Dropout(0.5))\n",
    "model.add(layers.Dense(50, activation='relu'))\n",
    "model.add(tf.keras.layers.Dropout(0.3))\n",
    "model.add(layers.Dense(50, activation='relu'))\n",
    "model.add(tf.keras.layers.Dropout(0.3))\n",
    "model.add(layers.Dense(40, activation='softmax'))\n",
    "\n",
    "model.add(layers.Dense(2))"
   ]
  },
  {
   "cell_type": "code",
   "execution_count": 27,
   "metadata": {},
   "outputs": [
    {
     "output_type": "stream",
     "name": "stdout",
     "text": [
      "Model: \"sequential_1\"\n_________________________________________________________________\nLayer (type)                 Output Shape              Param #   \n=================================================================\nconv2d_3 (Conv2D)            (None, 158, 158, 100)     2800      \n_________________________________________________________________\nmax_pooling2d_3 (MaxPooling2 (None, 79, 79, 100)       0         \n_________________________________________________________________\nconv2d_4 (Conv2D)            (None, 77, 77, 90)        81090     \n_________________________________________________________________\nmax_pooling2d_4 (MaxPooling2 (None, 38, 38, 90)        0         \n_________________________________________________________________\nconv2d_5 (Conv2D)            (None, 36, 36, 64)        51904     \n_________________________________________________________________\nmax_pooling2d_5 (MaxPooling2 (None, 18, 18, 64)        0         \n_________________________________________________________________\nflatten_1 (Flatten)          (None, 20736)             0         \n_________________________________________________________________\ndropout_7 (Dropout)          (None, 20736)             0         \n_________________________________________________________________\ndense_8 (Dense)              (None, 64)                1327168   \n_________________________________________________________________\ndropout_8 (Dropout)          (None, 64)                0         \n_________________________________________________________________\ndense_9 (Dense)              (None, 50)                3250      \n_________________________________________________________________\ndropout_9 (Dropout)          (None, 50)                0         \n_________________________________________________________________\ndense_10 (Dense)             (None, 50)                2550      \n_________________________________________________________________\ndropout_10 (Dropout)         (None, 50)                0         \n_________________________________________________________________\ndense_11 (Dense)             (None, 50)                2550      \n_________________________________________________________________\ndropout_11 (Dropout)         (None, 50)                0         \n_________________________________________________________________\ndense_12 (Dense)             (None, 50)                2550      \n_________________________________________________________________\ndropout_12 (Dropout)         (None, 50)                0         \n_________________________________________________________________\ndense_13 (Dense)             (None, 50)                2550      \n_________________________________________________________________\ndropout_13 (Dropout)         (None, 50)                0         \n_________________________________________________________________\ndense_14 (Dense)             (None, 40)                2040      \n_________________________________________________________________\ndense_15 (Dense)             (None, 2)                 82        \n=================================================================\nTotal params: 1,478,534\nTrainable params: 1,478,534\nNon-trainable params: 0\n_________________________________________________________________\n"
     ]
    }
   ],
   "source": [
    "# Printing model summary\n",
    "model.summary()"
   ]
  },
  {
   "cell_type": "code",
   "execution_count": 28,
   "metadata": {},
   "outputs": [],
   "source": [
    "# Now we're training the model\n",
    "\n",
    "model.compile(optimizer='adam',\n",
    "              loss=tf.keras.losses.SparseCategoricalCrossentropy(from_logits=True),\n",
    "              metrics=['accuracy'])\n",
    "\n",
    "# To access some statistics.\n",
    "history = model.fit(train_images_arr, train_labels_arr, epochs=25, \n",
    "                    validation_data=(test_images_arr, test_labels_arr))\n"
   ]
  },
  {
   "cell_type": "code",
   "execution_count": 29,
   "metadata": {},
   "outputs": [
    {
     "output_type": "stream",
     "name": "stdout",
     "text": [
      "144/144 - 76s - loss: 0.9009 - accuracy: 0.6201\n",
      "0.6200608015060425\n"
     ]
    }
   ],
   "source": [
    "test_loss, test_acc = model.evaluate(test_images_arr,  test_labels_arr, verbose=2)\n",
    "# Printing accuracy\n",
    "print(test_acc)"
   ]
  },
  {
   "cell_type": "code",
   "execution_count": 30,
   "metadata": {},
   "outputs": [],
   "source": [
    "# Saving Model\n",
    "model.save('/content/drive/MyDrive/TinkerHub BFH 2021/Models/Model9.h5')"
   ]
  }
 ]
}